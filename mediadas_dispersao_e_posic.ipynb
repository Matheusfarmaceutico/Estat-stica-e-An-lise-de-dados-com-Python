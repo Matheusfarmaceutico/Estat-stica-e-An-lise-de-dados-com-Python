{
  "nbformat": 4,
  "nbformat_minor": 0,
  "metadata": {
    "colab": {
      "name": "mediadas_dispersao_e_posic.ipynb",
      "provenance": [],
      "mount_file_id": "1OyMh8leGHANyrpdz9CZZa3lgnMXEFaX3",
      "authorship_tag": "ABX9TyORvo67kDLR7+9U/p7IivkX"
    },
    "kernelspec": {
      "name": "python3",
      "display_name": "Python 3"
    },
    "language_info": {
      "name": "python"
    }
  },
  "cells": [
    {
      "cell_type": "code",
      "execution_count": 2,
      "metadata": {
        "id": "st9Bz-FxRmQA"
      },
      "outputs": [],
      "source": [
        "import pandas as pd\n",
        "import numpy as np"
      ]
    },
    {
      "cell_type": "code",
      "source": [
        "enem_sp = pd.read_csv(\"/content/drive/MyDrive/Colab Notebooks/07 - Medidas de Dispersão e de posição no Python/02 - ex_med_dispers_and_posicao/enem_tratado.csv\"\n",
        ",encoding=\"iso-8859-1\",sep=\",\")"
      ],
      "metadata": {
        "id": "1Iozxp1dR9jm"
      },
      "execution_count": 3,
      "outputs": []
    },
    {
      "cell_type": "markdown",
      "source": [
        "#**Medidas de Dispersão**"
      ],
      "metadata": {
        "id": "1WRmmHBkSRuh"
      }
    },
    {
      "cell_type": "code",
      "source": [
        "enem_sp[\"NOTA_MT\"].var()#variancia"
      ],
      "metadata": {
        "colab": {
          "base_uri": "https://localhost:8080/"
        },
        "id": "al08gW-oSREb",
        "outputId": "11c44542-60d8-46db-bbf4-ec3297bd75f6"
      },
      "execution_count": 4,
      "outputs": [
        {
          "output_type": "execute_result",
          "data": {
            "text/plain": [
              "33659.47050441108"
            ]
          },
          "metadata": {},
          "execution_count": 4
        }
      ]
    },
    {
      "cell_type": "code",
      "source": [
        "enem_sp.NOTA_MT.var() #outra forma de fazer variancia"
      ],
      "metadata": {
        "colab": {
          "base_uri": "https://localhost:8080/"
        },
        "id": "3UGbigMSTTG5",
        "outputId": "213d967b-fc15-448c-e312-5eb5dc964470"
      },
      "execution_count": 5,
      "outputs": [
        {
          "output_type": "execute_result",
          "data": {
            "text/plain": [
              "33659.47050441108"
            ]
          },
          "metadata": {},
          "execution_count": 5
        }
      ]
    },
    {
      "cell_type": "code",
      "source": [
        "enem_sp.NOTA_MT.std() #Desvio padrao\n",
        "\n",
        "\"\"\" Note que para que se chegar ao desvio padrao, eu tiro a raizq da variancia.\n",
        "Lembre-se que o std considera um desvio padrao sem nenhuma casa decimal para fazer o cálculo.\"\"\""
      ],
      "metadata": {
        "colab": {
          "base_uri": "https://localhost:8080/"
        },
        "id": "2CE1_Tx9TXp5",
        "outputId": "8b3fe84c-f3dd-44ed-98a6-323fa97ec539"
      },
      "execution_count": 6,
      "outputs": [
        {
          "output_type": "execute_result",
          "data": {
            "text/plain": [
              "183.46517518158885"
            ]
          },
          "metadata": {},
          "execution_count": 6
        }
      ]
    },
    {
      "cell_type": "code",
      "source": [
        "round(enem_sp.NOTA_MT.var(),) #variancia sem nenhuma casa decimal"
      ],
      "metadata": {
        "colab": {
          "base_uri": "https://localhost:8080/"
        },
        "id": "bm_TziUEUKBn",
        "outputId": "7edd23c5-59bc-4f82-b679-62903bc63c8f"
      },
      "execution_count": 13,
      "outputs": [
        {
          "output_type": "execute_result",
          "data": {
            "text/plain": [
              "33659"
            ]
          },
          "metadata": {},
          "execution_count": 13
        }
      ]
    },
    {
      "cell_type": "code",
      "source": [
        "enem_sp.NOTA_MT.mean()"
      ],
      "metadata": {
        "colab": {
          "base_uri": "https://localhost:8080/"
        },
        "id": "p_K2WDG2VTd5",
        "outputId": "f5606cc3-9412-4058-aefd-a423c25176a7"
      },
      "execution_count": 22,
      "outputs": [
        {
          "output_type": "execute_result",
          "data": {
            "text/plain": [
              "497.5942403088341"
            ]
          },
          "metadata": {},
          "execution_count": 22
        }
      ]
    },
    {
      "cell_type": "code",
      "source": [
        "#desvio absoluto - Diferença entre a média e o desvio padrao. ex 497 (média) - 183(desvio padrão) = 310\n",
        "\n",
        "enem_sp.NOTA_MT.mad()"
      ],
      "metadata": {
        "colab": {
          "base_uri": "https://localhost:8080/"
        },
        "id": "cZan4HULVcDm",
        "outputId": "4f1f72fc-e6da-4f56-95c6-e3d02e0facaa"
      },
      "execution_count": 17,
      "outputs": [
        {
          "output_type": "execute_result",
          "data": {
            "text/plain": [
              "132.98102283461475"
            ]
          },
          "metadata": {},
          "execution_count": 17
        }
      ]
    },
    {
      "cell_type": "markdown",
      "source": [
        "**Fazendo o mesmo com as notas de redação**"
      ],
      "metadata": {
        "id": "XmRdLDgpZhxa"
      }
    },
    {
      "cell_type": "code",
      "source": [
        "enem_sp.NOTA_REDACAO.var() #variancia"
      ],
      "metadata": {
        "colab": {
          "base_uri": "https://localhost:8080/"
        },
        "id": "jGv5MhjGZnLY",
        "outputId": "9e19007d-19b9-4a88-afdb-268b1df40a12"
      },
      "execution_count": 23,
      "outputs": [
        {
          "output_type": "execute_result",
          "data": {
            "text/plain": [
              "29082.774122769704"
            ]
          },
          "metadata": {},
          "execution_count": 23
        }
      ]
    },
    {
      "cell_type": "code",
      "source": [
        "enem_sp.NOTA_REDACAO.std() #desvio padrao.\n",
        "\"\"\" Note que a dispersão das notas de red é menor do que as de matemática, já que o desv padrao é 170, sendo \n",
        "o de matematica é 183\"\"\""
      ],
      "metadata": {
        "colab": {
          "base_uri": "https://localhost:8080/"
        },
        "id": "L7TKck3HZywF",
        "outputId": "b32c104d-f741-4da0-8ae1-f2552d1a2539"
      },
      "execution_count": 24,
      "outputs": [
        {
          "output_type": "execute_result",
          "data": {
            "text/plain": [
              "170.5367236778334"
            ]
          },
          "metadata": {},
          "execution_count": 24
        }
      ]
    },
    {
      "cell_type": "code",
      "source": [
        "enem_sp.NOTA_REDACAO.mean()"
      ],
      "metadata": {
        "colab": {
          "base_uri": "https://localhost:8080/"
        },
        "id": "5Fjp23NVaO5J",
        "outputId": "03c6841a-64e2-497b-d623-12b58fbd7901"
      },
      "execution_count": 25,
      "outputs": [
        {
          "output_type": "execute_result",
          "data": {
            "text/plain": [
              "593.0183221986639"
            ]
          },
          "metadata": {},
          "execution_count": 25
        }
      ]
    },
    {
      "cell_type": "code",
      "source": [
        "enem_sp.describe()"
      ],
      "metadata": {
        "colab": {
          "base_uri": "https://localhost:8080/",
          "height": 364
        },
        "id": "HZr4SiIvaeED",
        "outputId": "7f022878-147c-4b91-a6b5-cab48faa67cb"
      },
      "execution_count": 27,
      "outputs": [
        {
          "output_type": "execute_result",
          "data": {
            "text/plain": [
              "               IDADE  TP_ESTADO_CIVIL  TP_NACIONALIDADE  TP_ST_CONCLUSAO  \\\n",
              "count  499940.000000    499940.000000     499940.000000    499940.000000   \n",
              "mean       20.593387         1.053206          1.029902         1.476085   \n",
              "std         6.465291         0.380866          0.230986         0.510351   \n",
              "min        12.000000         0.000000          0.000000         1.000000   \n",
              "25%        17.000000         1.000000          1.000000         1.000000   \n",
              "50%        18.000000         1.000000          1.000000         1.000000   \n",
              "75%        21.000000         1.000000          1.000000         2.000000   \n",
              "max        91.000000         4.000000          4.000000         4.000000   \n",
              "\n",
              "          CO_ESCOLA  TP_PRESENCA_CN  TP_PRESENCA_CH  TP_PRESENCA_LC  \\\n",
              "count  1.768940e+05        499940.0        499940.0        499940.0   \n",
              "mean   3.521138e+07             1.0             1.0             1.0   \n",
              "std    4.430392e+05             0.0             0.0             0.0   \n",
              "min    1.100306e+07             1.0             1.0             1.0   \n",
              "25%    3.501625e+07             1.0             1.0             1.0   \n",
              "50%    3.504496e+07             1.0             1.0             1.0   \n",
              "75%    3.529070e+07             1.0             1.0             1.0   \n",
              "max    5.300104e+07             1.0             1.0             1.0   \n",
              "\n",
              "       TP_PRESENCA_MT        NOTA_CN        NOTA_CH        NOTA_LC  \\\n",
              "count        499940.0  499940.000000  499940.000000  499940.000000   \n",
              "mean              1.0     449.917000     482.228054     491.941262   \n",
              "std               0.0     152.982255     161.122963     156.247134   \n",
              "min               1.0       0.000000       0.000000       0.000000   \n",
              "25%               1.0     412.400000     450.600000     490.100000   \n",
              "50%               1.0     478.100000     523.700000     538.300000   \n",
              "75%               1.0     544.400000     578.100000     576.200000   \n",
              "max               1.0     860.900000     822.700000     772.300000   \n",
              "\n",
              "             NOTA_MT  TP_STATUS_REDACAO          COMP1          COMP2  \\\n",
              "count  499940.000000      499940.000000  499940.000000  499940.000000   \n",
              "mean      497.594240           1.072105     125.000760     127.066808   \n",
              "std       183.465175           0.584314      28.629513      39.846083   \n",
              "min         0.000000           1.000000       0.000000       0.000000   \n",
              "25%       427.900000           1.000000     120.000000     120.000000   \n",
              "50%       511.800000           1.000000     120.000000     120.000000   \n",
              "75%       617.900000           1.000000     140.000000     140.000000   \n",
              "max       984.700000           9.000000     200.000000     200.000000   \n",
              "\n",
              "               COMP3          COMP4          COMP5   NOTA_REDACAO  \n",
              "count  499940.000000  499940.000000  499940.000000  499940.000000  \n",
              "mean      118.760691     124.989359      97.200704     593.018322  \n",
              "std        36.778882      33.879299      57.787427     170.536724  \n",
              "min         0.000000       0.000000       0.000000       0.000000  \n",
              "25%       100.000000     120.000000      60.000000     500.000000  \n",
              "50%       120.000000     120.000000     100.000000     600.000000  \n",
              "75%       140.000000     140.000000     140.000000     680.000000  \n",
              "max       200.000000     200.000000     200.000000    1000.000000  "
            ],
            "text/html": [
              "\n",
              "  <div id=\"df-effe01a9-e9cd-4827-b14e-90cde1e4a813\">\n",
              "    <div class=\"colab-df-container\">\n",
              "      <div>\n",
              "<style scoped>\n",
              "    .dataframe tbody tr th:only-of-type {\n",
              "        vertical-align: middle;\n",
              "    }\n",
              "\n",
              "    .dataframe tbody tr th {\n",
              "        vertical-align: top;\n",
              "    }\n",
              "\n",
              "    .dataframe thead th {\n",
              "        text-align: right;\n",
              "    }\n",
              "</style>\n",
              "<table border=\"1\" class=\"dataframe\">\n",
              "  <thead>\n",
              "    <tr style=\"text-align: right;\">\n",
              "      <th></th>\n",
              "      <th>IDADE</th>\n",
              "      <th>TP_ESTADO_CIVIL</th>\n",
              "      <th>TP_NACIONALIDADE</th>\n",
              "      <th>TP_ST_CONCLUSAO</th>\n",
              "      <th>CO_ESCOLA</th>\n",
              "      <th>TP_PRESENCA_CN</th>\n",
              "      <th>TP_PRESENCA_CH</th>\n",
              "      <th>TP_PRESENCA_LC</th>\n",
              "      <th>TP_PRESENCA_MT</th>\n",
              "      <th>NOTA_CN</th>\n",
              "      <th>NOTA_CH</th>\n",
              "      <th>NOTA_LC</th>\n",
              "      <th>NOTA_MT</th>\n",
              "      <th>TP_STATUS_REDACAO</th>\n",
              "      <th>COMP1</th>\n",
              "      <th>COMP2</th>\n",
              "      <th>COMP3</th>\n",
              "      <th>COMP4</th>\n",
              "      <th>COMP5</th>\n",
              "      <th>NOTA_REDACAO</th>\n",
              "    </tr>\n",
              "  </thead>\n",
              "  <tbody>\n",
              "    <tr>\n",
              "      <th>count</th>\n",
              "      <td>499940.000000</td>\n",
              "      <td>499940.000000</td>\n",
              "      <td>499940.000000</td>\n",
              "      <td>499940.000000</td>\n",
              "      <td>1.768940e+05</td>\n",
              "      <td>499940.0</td>\n",
              "      <td>499940.0</td>\n",
              "      <td>499940.0</td>\n",
              "      <td>499940.0</td>\n",
              "      <td>499940.000000</td>\n",
              "      <td>499940.000000</td>\n",
              "      <td>499940.000000</td>\n",
              "      <td>499940.000000</td>\n",
              "      <td>499940.000000</td>\n",
              "      <td>499940.000000</td>\n",
              "      <td>499940.000000</td>\n",
              "      <td>499940.000000</td>\n",
              "      <td>499940.000000</td>\n",
              "      <td>499940.000000</td>\n",
              "      <td>499940.000000</td>\n",
              "    </tr>\n",
              "    <tr>\n",
              "      <th>mean</th>\n",
              "      <td>20.593387</td>\n",
              "      <td>1.053206</td>\n",
              "      <td>1.029902</td>\n",
              "      <td>1.476085</td>\n",
              "      <td>3.521138e+07</td>\n",
              "      <td>1.0</td>\n",
              "      <td>1.0</td>\n",
              "      <td>1.0</td>\n",
              "      <td>1.0</td>\n",
              "      <td>449.917000</td>\n",
              "      <td>482.228054</td>\n",
              "      <td>491.941262</td>\n",
              "      <td>497.594240</td>\n",
              "      <td>1.072105</td>\n",
              "      <td>125.000760</td>\n",
              "      <td>127.066808</td>\n",
              "      <td>118.760691</td>\n",
              "      <td>124.989359</td>\n",
              "      <td>97.200704</td>\n",
              "      <td>593.018322</td>\n",
              "    </tr>\n",
              "    <tr>\n",
              "      <th>std</th>\n",
              "      <td>6.465291</td>\n",
              "      <td>0.380866</td>\n",
              "      <td>0.230986</td>\n",
              "      <td>0.510351</td>\n",
              "      <td>4.430392e+05</td>\n",
              "      <td>0.0</td>\n",
              "      <td>0.0</td>\n",
              "      <td>0.0</td>\n",
              "      <td>0.0</td>\n",
              "      <td>152.982255</td>\n",
              "      <td>161.122963</td>\n",
              "      <td>156.247134</td>\n",
              "      <td>183.465175</td>\n",
              "      <td>0.584314</td>\n",
              "      <td>28.629513</td>\n",
              "      <td>39.846083</td>\n",
              "      <td>36.778882</td>\n",
              "      <td>33.879299</td>\n",
              "      <td>57.787427</td>\n",
              "      <td>170.536724</td>\n",
              "    </tr>\n",
              "    <tr>\n",
              "      <th>min</th>\n",
              "      <td>12.000000</td>\n",
              "      <td>0.000000</td>\n",
              "      <td>0.000000</td>\n",
              "      <td>1.000000</td>\n",
              "      <td>1.100306e+07</td>\n",
              "      <td>1.0</td>\n",
              "      <td>1.0</td>\n",
              "      <td>1.0</td>\n",
              "      <td>1.0</td>\n",
              "      <td>0.000000</td>\n",
              "      <td>0.000000</td>\n",
              "      <td>0.000000</td>\n",
              "      <td>0.000000</td>\n",
              "      <td>1.000000</td>\n",
              "      <td>0.000000</td>\n",
              "      <td>0.000000</td>\n",
              "      <td>0.000000</td>\n",
              "      <td>0.000000</td>\n",
              "      <td>0.000000</td>\n",
              "      <td>0.000000</td>\n",
              "    </tr>\n",
              "    <tr>\n",
              "      <th>25%</th>\n",
              "      <td>17.000000</td>\n",
              "      <td>1.000000</td>\n",
              "      <td>1.000000</td>\n",
              "      <td>1.000000</td>\n",
              "      <td>3.501625e+07</td>\n",
              "      <td>1.0</td>\n",
              "      <td>1.0</td>\n",
              "      <td>1.0</td>\n",
              "      <td>1.0</td>\n",
              "      <td>412.400000</td>\n",
              "      <td>450.600000</td>\n",
              "      <td>490.100000</td>\n",
              "      <td>427.900000</td>\n",
              "      <td>1.000000</td>\n",
              "      <td>120.000000</td>\n",
              "      <td>120.000000</td>\n",
              "      <td>100.000000</td>\n",
              "      <td>120.000000</td>\n",
              "      <td>60.000000</td>\n",
              "      <td>500.000000</td>\n",
              "    </tr>\n",
              "    <tr>\n",
              "      <th>50%</th>\n",
              "      <td>18.000000</td>\n",
              "      <td>1.000000</td>\n",
              "      <td>1.000000</td>\n",
              "      <td>1.000000</td>\n",
              "      <td>3.504496e+07</td>\n",
              "      <td>1.0</td>\n",
              "      <td>1.0</td>\n",
              "      <td>1.0</td>\n",
              "      <td>1.0</td>\n",
              "      <td>478.100000</td>\n",
              "      <td>523.700000</td>\n",
              "      <td>538.300000</td>\n",
              "      <td>511.800000</td>\n",
              "      <td>1.000000</td>\n",
              "      <td>120.000000</td>\n",
              "      <td>120.000000</td>\n",
              "      <td>120.000000</td>\n",
              "      <td>120.000000</td>\n",
              "      <td>100.000000</td>\n",
              "      <td>600.000000</td>\n",
              "    </tr>\n",
              "    <tr>\n",
              "      <th>75%</th>\n",
              "      <td>21.000000</td>\n",
              "      <td>1.000000</td>\n",
              "      <td>1.000000</td>\n",
              "      <td>2.000000</td>\n",
              "      <td>3.529070e+07</td>\n",
              "      <td>1.0</td>\n",
              "      <td>1.0</td>\n",
              "      <td>1.0</td>\n",
              "      <td>1.0</td>\n",
              "      <td>544.400000</td>\n",
              "      <td>578.100000</td>\n",
              "      <td>576.200000</td>\n",
              "      <td>617.900000</td>\n",
              "      <td>1.000000</td>\n",
              "      <td>140.000000</td>\n",
              "      <td>140.000000</td>\n",
              "      <td>140.000000</td>\n",
              "      <td>140.000000</td>\n",
              "      <td>140.000000</td>\n",
              "      <td>680.000000</td>\n",
              "    </tr>\n",
              "    <tr>\n",
              "      <th>max</th>\n",
              "      <td>91.000000</td>\n",
              "      <td>4.000000</td>\n",
              "      <td>4.000000</td>\n",
              "      <td>4.000000</td>\n",
              "      <td>5.300104e+07</td>\n",
              "      <td>1.0</td>\n",
              "      <td>1.0</td>\n",
              "      <td>1.0</td>\n",
              "      <td>1.0</td>\n",
              "      <td>860.900000</td>\n",
              "      <td>822.700000</td>\n",
              "      <td>772.300000</td>\n",
              "      <td>984.700000</td>\n",
              "      <td>9.000000</td>\n",
              "      <td>200.000000</td>\n",
              "      <td>200.000000</td>\n",
              "      <td>200.000000</td>\n",
              "      <td>200.000000</td>\n",
              "      <td>200.000000</td>\n",
              "      <td>1000.000000</td>\n",
              "    </tr>\n",
              "  </tbody>\n",
              "</table>\n",
              "</div>\n",
              "      <button class=\"colab-df-convert\" onclick=\"convertToInteractive('df-effe01a9-e9cd-4827-b14e-90cde1e4a813')\"\n",
              "              title=\"Convert this dataframe to an interactive table.\"\n",
              "              style=\"display:none;\">\n",
              "        \n",
              "  <svg xmlns=\"http://www.w3.org/2000/svg\" height=\"24px\"viewBox=\"0 0 24 24\"\n",
              "       width=\"24px\">\n",
              "    <path d=\"M0 0h24v24H0V0z\" fill=\"none\"/>\n",
              "    <path d=\"M18.56 5.44l.94 2.06.94-2.06 2.06-.94-2.06-.94-.94-2.06-.94 2.06-2.06.94zm-11 1L8.5 8.5l.94-2.06 2.06-.94-2.06-.94L8.5 2.5l-.94 2.06-2.06.94zm10 10l.94 2.06.94-2.06 2.06-.94-2.06-.94-.94-2.06-.94 2.06-2.06.94z\"/><path d=\"M17.41 7.96l-1.37-1.37c-.4-.4-.92-.59-1.43-.59-.52 0-1.04.2-1.43.59L10.3 9.45l-7.72 7.72c-.78.78-.78 2.05 0 2.83L4 21.41c.39.39.9.59 1.41.59.51 0 1.02-.2 1.41-.59l7.78-7.78 2.81-2.81c.8-.78.8-2.07 0-2.86zM5.41 20L4 18.59l7.72-7.72 1.47 1.35L5.41 20z\"/>\n",
              "  </svg>\n",
              "      </button>\n",
              "      \n",
              "  <style>\n",
              "    .colab-df-container {\n",
              "      display:flex;\n",
              "      flex-wrap:wrap;\n",
              "      gap: 12px;\n",
              "    }\n",
              "\n",
              "    .colab-df-convert {\n",
              "      background-color: #E8F0FE;\n",
              "      border: none;\n",
              "      border-radius: 50%;\n",
              "      cursor: pointer;\n",
              "      display: none;\n",
              "      fill: #1967D2;\n",
              "      height: 32px;\n",
              "      padding: 0 0 0 0;\n",
              "      width: 32px;\n",
              "    }\n",
              "\n",
              "    .colab-df-convert:hover {\n",
              "      background-color: #E2EBFA;\n",
              "      box-shadow: 0px 1px 2px rgba(60, 64, 67, 0.3), 0px 1px 3px 1px rgba(60, 64, 67, 0.15);\n",
              "      fill: #174EA6;\n",
              "    }\n",
              "\n",
              "    [theme=dark] .colab-df-convert {\n",
              "      background-color: #3B4455;\n",
              "      fill: #D2E3FC;\n",
              "    }\n",
              "\n",
              "    [theme=dark] .colab-df-convert:hover {\n",
              "      background-color: #434B5C;\n",
              "      box-shadow: 0px 1px 3px 1px rgba(0, 0, 0, 0.15);\n",
              "      filter: drop-shadow(0px 1px 2px rgba(0, 0, 0, 0.3));\n",
              "      fill: #FFFFFF;\n",
              "    }\n",
              "  </style>\n",
              "\n",
              "      <script>\n",
              "        const buttonEl =\n",
              "          document.querySelector('#df-effe01a9-e9cd-4827-b14e-90cde1e4a813 button.colab-df-convert');\n",
              "        buttonEl.style.display =\n",
              "          google.colab.kernel.accessAllowed ? 'block' : 'none';\n",
              "\n",
              "        async function convertToInteractive(key) {\n",
              "          const element = document.querySelector('#df-effe01a9-e9cd-4827-b14e-90cde1e4a813');\n",
              "          const dataTable =\n",
              "            await google.colab.kernel.invokeFunction('convertToInteractive',\n",
              "                                                     [key], {});\n",
              "          if (!dataTable) return;\n",
              "\n",
              "          const docLinkHtml = 'Like what you see? Visit the ' +\n",
              "            '<a target=\"_blank\" href=https://colab.research.google.com/notebooks/data_table.ipynb>data table notebook</a>'\n",
              "            + ' to learn more about interactive tables.';\n",
              "          element.innerHTML = '';\n",
              "          dataTable['output_type'] = 'display_data';\n",
              "          await google.colab.output.renderOutput(dataTable, element);\n",
              "          const docLink = document.createElement('div');\n",
              "          docLink.innerHTML = docLinkHtml;\n",
              "          element.appendChild(docLink);\n",
              "        }\n",
              "      </script>\n",
              "    </div>\n",
              "  </div>\n",
              "  "
            ]
          },
          "metadata": {},
          "execution_count": 27
        }
      ]
    }
  ]
}