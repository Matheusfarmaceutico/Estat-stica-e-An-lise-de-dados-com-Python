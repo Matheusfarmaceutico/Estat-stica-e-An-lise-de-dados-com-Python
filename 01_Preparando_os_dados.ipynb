{
  "nbformat": 4,
  "nbformat_minor": 0,
  "metadata": {
    "colab": {
      "name": "01 - Preparando os dados.ipynb",
      "provenance": [],
      "mount_file_id": "1TkKDZds6dnScdvXMFPM1UV2txcAmoh4h",
      "authorship_tag": "ABX9TyPa1EE40iXkJ0tY9ncndyLk",
      "include_colab_link": true
    },
    "kernelspec": {
      "name": "python3",
      "display_name": "Python 3"
    },
    "language_info": {
      "name": "python"
    }
  },
  "cells": [
    {
      "cell_type": "markdown",
      "metadata": {
        "id": "view-in-github",
        "colab_type": "text"
      },
      "source": [
        "<a href=\"https://colab.research.google.com/github/Matheusfarmaceutico/Estat-stica-e-An-lise-de-dados-com-Python/blob/main/01_Preparando_os_dados.ipynb\" target=\"_parent\"><img src=\"https://colab.research.google.com/assets/colab-badge.svg\" alt=\"Open In Colab\"/></a>"
      ]
    },
    {
      "cell_type": "code",
      "execution_count": 7,
      "metadata": {
        "id": "IgINibNkiQ_C"
      },
      "outputs": [],
      "source": [
        "import pandas as pd\n",
        "import numpy as np"
      ]
    },
    {
      "cell_type": "code",
      "source": [
        "db = pd.read_csv(\"/content/drive/MyDrive/Colab Notebooks/01 - Preparação dos dados/02 - Meus arquivos/01 - Preparando o DB/microdados_enem_2019_sp.csv\", sep  = \";\", encoding = \"iso-8859-1\")"
      ],
      "metadata": {
        "id": "uKoexN13jZRw"
      },
      "execution_count": 8,
      "outputs": []
    },
    {
      "cell_type": "code",
      "source": [
        "print(db)"
      ],
      "metadata": {
        "colab": {
          "base_uri": "https://localhost:8080/"
        },
        "id": "bPp6_Fsljxpy",
        "outputId": "fc768465-4893-46df-d65d-d92e53312e72"
      },
      "execution_count": 9,
      "outputs": [
        {
          "output_type": "stream",
          "name": "stdout",
          "text": [
            "       NU_INSCRICAO  CO_MUNICIPIO_RESIDENCIA NO_MUNICIPIO_RESIDENCIA  \\\n",
            "0          1,90E+11                  3546801            Santa Isabel   \n",
            "1          1,90E+11                  3538204             Pinhalzinho   \n",
            "2          1,90E+11                  3550308               São Paulo   \n",
            "3          1,90E+11                  3548708   São Bernardo do Campo   \n",
            "4          1,90E+11                  3549409    São Joaquim da Barra   \n",
            "...             ...                      ...                     ...   \n",
            "813767     1,90E+11                  3550308               São Paulo   \n",
            "813768     1,90E+11                  3550308               São Paulo   \n",
            "813769     1,90E+11                  3550308               São Paulo   \n",
            "813770     1,90E+11                  3509205                 Cajamar   \n",
            "813771     1,90E+11                  3503307                  Araras   \n",
            "\n",
            "        CO_UF_RESIDENCIA SG_UF_RESIDENCIA  NU_IDADE TP_SEXO  TP_ESTADO_CIVIL  \\\n",
            "0                     35               SP        22       M                1   \n",
            "1                     35               SP        19       M                1   \n",
            "2                     35               SP        17       F                1   \n",
            "3                     35               SP        19       M                1   \n",
            "4                     35               SP        37       M                2   \n",
            "...                  ...              ...       ...     ...              ...   \n",
            "813767                35               SP        17       F                1   \n",
            "813768                35               SP        17       F                1   \n",
            "813769                35               SP        17       M                1   \n",
            "813770                35               SP        21       F                1   \n",
            "813771                35               SP        18       F                1   \n",
            "\n",
            "        TP_COR_RACA  TP_NACIONALIDADE  ...  NU_NOTA_MT TP_LINGUA  \\\n",
            "0                 3                 1  ...      6002.0         0   \n",
            "1                 3                 1  ...         NaN         1   \n",
            "2                 3                 1  ...      7318.0         0   \n",
            "3                 3                 1  ...      3932.0         1   \n",
            "4                 1                 1  ...         NaN         1   \n",
            "...             ...               ...  ...         ...       ...   \n",
            "813767            2                 1  ...       432.0         1   \n",
            "813768            3                 1  ...      4873.0         0   \n",
            "813769            3                 1  ...      4011.0         0   \n",
            "813770            3                 1  ...         NaN         1   \n",
            "813771            1                 1  ...      5595.0         0   \n",
            "\n",
            "        TP_STATUS_REDACAO NU_NOTA_COMP1  NU_NOTA_COMP2  NU_NOTA_COMP3  \\\n",
            "0                     1.0         160.0          200.0          180.0   \n",
            "1                     NaN           NaN            NaN            NaN   \n",
            "2                     1.0         160.0          120.0          200.0   \n",
            "3                     1.0          80.0          160.0          120.0   \n",
            "4                     NaN           NaN            NaN            NaN   \n",
            "...                   ...           ...            ...            ...   \n",
            "813767                1.0          80.0          120.0          140.0   \n",
            "813768                1.0         120.0           80.0           60.0   \n",
            "813769                1.0         160.0          120.0          160.0   \n",
            "813770                NaN           NaN            NaN            NaN   \n",
            "813771                1.0         120.0          120.0          120.0   \n",
            "\n",
            "        NU_NOTA_COMP4  NU_NOTA_COMP5  NU_NOTA_REDACAO  Q025  \n",
            "0               200.0          200.0            940.0     B  \n",
            "1                 NaN            NaN              NaN     A  \n",
            "2               200.0          200.0            880.0     A  \n",
            "3               100.0          100.0            560.0     B  \n",
            "4                 NaN            NaN              NaN     B  \n",
            "...               ...            ...              ...   ...  \n",
            "813767          120.0          100.0            560.0     B  \n",
            "813768          120.0            0.0            380.0     B  \n",
            "813769          140.0          160.0            740.0     A  \n",
            "813770            NaN            NaN              NaN     B  \n",
            "813771          120.0          140.0            620.0     B  \n",
            "\n",
            "[813772 rows x 44 columns]\n"
          ]
        }
      ]
    }
  ]
}