{
  "cells": [
    {
      "cell_type": "markdown",
      "metadata": {
        "id": "view-in-github",
        "colab_type": "text"
      },
      "source": [
        "<a href=\"https://colab.research.google.com/github/Matheusfarmaceutico/Estat-stica-e-An-lise-de-dados-com-Python/blob/main/01_Preparando_os_dados.ipynb\" target=\"_parent\"><img src=\"https://colab.research.google.com/assets/colab-badge.svg\" alt=\"Open In Colab\"/></a>"
      ]
    },
    {
      "cell_type": "code",
      "execution_count": null,
      "metadata": {
        "id": "IgINibNkiQ_C"
      },
      "outputs": [],
      "source": [
        "import pandas as pd\n",
        "import numpy as np\n",
        "pd.options.display.max_columns = 44"
      ]
    },
    {
      "cell_type": "code",
      "execution_count": null,
      "metadata": {
        "id": "uKoexN13jZRw"
      },
      "outputs": [],
      "source": [
        "db = pd.read_csv(\"/content/drive/MyDrive/Colab Notebooks/01 - Preparação dos dados/02 - Meus arquivos/01 - Preparando o DB/microdados_enem_2019_sp.csv\", sep  = \";\", encoding = \"iso-8859-1\")"
      ]
    },
    {
      "cell_type": "markdown",
      "source": [
        "# **Extração e Limpeza de Dados**\n",
        "\n",
        "---\n",
        "\n",
        "\n",
        "\n",
        "---\n",
        "\n"
      ],
      "metadata": {
        "id": "azmH48KvmwTS"
      }
    },
    {
      "cell_type": "code",
      "execution_count": null,
      "metadata": {
        "id": "bPp6_Fsljxpy"
      },
      "outputs": [],
      "source": [
        "\n",
        "db.head()"
      ]
    },
    {
      "cell_type": "code",
      "source": [
        "db.shape"
      ],
      "metadata": {
        "id": "8OqFD_9IqIVH"
      },
      "execution_count": null,
      "outputs": []
    },
    {
      "cell_type": "code",
      "source": [
        "db.dtypes #complex: raiz quadrada de -9, exemplo."
      ],
      "metadata": {
        "id": "6ZiWbTfbqtJi"
      },
      "execution_count": null,
      "outputs": []
    },
    {
      "cell_type": "code",
      "source": [
        "dados01 = db.drop(columns = [\"CO_MUNICIPIO_RESIDENCIA\"])"
      ],
      "metadata": {
        "id": "sf4rZNmbrj85"
      },
      "execution_count": null,
      "outputs": []
    },
    {
      "cell_type": "code",
      "source": [
        "dados01.head()"
      ],
      "metadata": {
        "id": "HdOVY29crzlb"
      },
      "execution_count": null,
      "outputs": []
    },
    {
      "cell_type": "code",
      "source": [
        "dados01 = dados01.drop(columns = [\"CO_UF_RESIDENCIA\", \"SG_UF_RESIDENCIA\",\"CO_MUNICIPIO_NASCIMENTO\"],)"
      ],
      "metadata": {
        "id": "ivkSdazgtWGF"
      },
      "execution_count": null,
      "outputs": []
    },
    {
      "cell_type": "code",
      "source": [
        "dados01.head(40)"
      ],
      "metadata": {
        "id": "r-lcqeiOtovX"
      },
      "execution_count": null,
      "outputs": []
    },
    {
      "cell_type": "code",
      "source": [
        "dados1 = dados01.drop(columns = [\"NO_MUNICIPIO_NASCIMENTO\",\"CO_UF_NASCIMENTO\",\"SG_UF_NASCIMENTO\",\"TP_ANO_CONCLUIU\",\"TP_ENSINO\",\"CO_MUNICIPIO_ESC\",\"CO_UF_ESC\",\"SG_UF_ESC\"],)"
      ],
      "metadata": {
        "id": "fZzBM6bGwCi9"
      },
      "execution_count": null,
      "outputs": []
    },
    {
      "cell_type": "code",
      "source": [
        "dados1.head()"
      ],
      "metadata": {
        "id": "_HTKNpNNwmFd"
      },
      "execution_count": null,
      "outputs": []
    },
    {
      "cell_type": "code",
      "source": [
        "dados01 = dados1.drop(columns = [\"TP_DEPENDENCIA_ADM_ESC\",\"TP_LOCALIZACAO_ESC\",'TP_SIT_FUNC_ESC'])"
      ],
      "metadata": {
        "id": "eb5wV1LRw6LB"
      },
      "execution_count": null,
      "outputs": []
    },
    {
      "cell_type": "code",
      "source": [
        "dados01.head()\n",
        "dados01.shape"
      ],
      "metadata": {
        "id": "sOBAMcKNxRUW"
      },
      "execution_count": null,
      "outputs": []
    },
    {
      "cell_type": "markdown",
      "source": [
        "# **Corrigir erros nas notas das disciplinas**"
      ],
      "metadata": {
        "id": "tGHHMQQOvWM_"
      }
    },
    {
      "cell_type": "code",
      "source": [
        "dados01.loc[:,\"NU_NOTA_MT\"] /= 10 #O dois pontos do começo significam que a div\n",
        "#acontecerá em todas as linhas.\n",
        "dados01.loc[:,\"NU_NOTA_CH\"] /= 10\n",
        "dados01.loc[:,\"NU_NOTA_LC\"] /= 10\n",
        "dados01.loc[:,\"NU_NOTA_CN\"] /= 10\n",
        "\n"
      ],
      "metadata": {
        "id": "W_TbbkT7vUTC"
      },
      "execution_count": null,
      "outputs": []
    },
    {
      "cell_type": "code",
      "source": [
        "dados01.head()"
      ],
      "metadata": {
        "id": "9lUyxdHtwXrZ"
      },
      "execution_count": null,
      "outputs": []
    },
    {
      "cell_type": "code",
      "source": [
        "dados01 = dados01.rename(columns ={\"NU_NOTA_CN\":\"NOTA_CN\",\"NU_NOTA_CH\":\"NOTA_CH\",\n",
        "\"NU_NOTA_LC\":\"NOTA_LC\",\"NU_NOTA_MT\":\"NOTA_MT\",\"NU_NOTA_REDACAO\":\"NOTA_REDACAO\"})"
      ],
      "metadata": {
        "id": "iiRftOLO2jAI"
      },
      "execution_count": null,
      "outputs": []
    },
    {
      "cell_type": "code",
      "source": [
        "dados01 = dados01.rename(columns= {\"NU_COMP1\":\"COMP1\",\n",
        "                         \"NU_NOTA_COMP2\":\"COMP2\",\n",
        "                         \"NU_NOTA_COMP3\":\"COMP3\",\n",
        "                         \"NU_NOTA_COMP4\":\"COMP4\",\n",
        "                         \"NU_NOTA_COMP5\":\"COMP5\"})"
      ],
      "metadata": {
        "id": "Nqw9BWco8peG"
      },
      "execution_count": null,
      "outputs": []
    },
    {
      "cell_type": "code",
      "source": [
        "dados01.head()"
      ],
      "metadata": {
        "id": "BGFmF7GS-Kv0"
      },
      "execution_count": null,
      "outputs": []
    },
    {
      "cell_type": "code",
      "source": [
        "dados01 = dados01.rename(columns = {\"NU_IDADE\":\"IDADE\",\n",
        "                                    \"TP_SEXO\":\"SEXO\",\n",
        "                                    \"TP_COR_RACA\":\"RACA\",\n",
        "                                    \"Q025\":\"INTERNET\",\n",
        "                                    \"TP_ESCOLA\":\"ESCOLA\"})"
      ],
      "metadata": {
        "id": "iyGE7KA2-mav"
      },
      "execution_count": null,
      "outputs": []
    },
    {
      "cell_type": "code",
      "source": [
        "dados01.head()"
      ],
      "metadata": {
        "id": "snHvF0r6_ZkE"
      },
      "execution_count": null,
      "outputs": []
    },
    {
      "cell_type": "code",
      "source": [
        "dados01[\"RACA\"] = dados01[\"RACA\"].replace({0:\"nao_Declarado\",\n",
        "                                           1:\"branca\",\n",
        "                                           2:\"preta\",\n",
        "                                           3:\"parda\",\n",
        "                                           4:\"amarela\",\n",
        "                                           5:\"indigena\"})"
      ],
      "metadata": {
        "id": "ieVNiT9pAduc"
      },
      "execution_count": null,
      "outputs": []
    },
    {
      "cell_type": "code",
      "source": [
        "dados01.head()"
      ],
      "metadata": {
        "id": "Ej41YqA2BXS_"
      },
      "execution_count": null,
      "outputs": []
    },
    {
      "cell_type": "code",
      "source": [
        "dados01[\"TP_LINGUA\"] = dados01[\"TP_LINGUA\"].replace([0,1], [\"Inglês\",\"Espanhol\"]) #outra maneira de fazer o replace"
      ],
      "metadata": {
        "id": "u-p6EASJEJLk"
      },
      "execution_count": null,
      "outputs": []
    },
    {
      "cell_type": "code",
      "source": [
        "dados01.head()"
      ],
      "metadata": {
        "id": "mvUpldVyFBFD"
      },
      "execution_count": null,
      "outputs": []
    },
    {
      "cell_type": "code",
      "source": [
        "dados01[\"ESCOLA\"] = dados01[\"ESCOLA\"].replace({1:\"nao_respondeu\",\n",
        "                                               2:\"publica\",\n",
        "                                               3:\"privada\",\n",
        "                                               4:\"exterior\"})"
      ],
      "metadata": {
        "id": "3Cif22rIGdAk"
      },
      "execution_count": null,
      "outputs": []
    },
    {
      "cell_type": "code",
      "source": [
        "dados01.head()"
      ],
      "metadata": {
        "id": "YRdaEc9bG4EM"
      },
      "execution_count": null,
      "outputs": []
    },
    {
      "cell_type": "code",
      "source": [
        "dados01[\"INTERNET\"] = dados01[\"INTERNET\"].replace({\"A\":\"sim\",\"B\":\"nao\"})"
      ],
      "metadata": {
        "id": "6ulOprunIR7x"
      },
      "execution_count": null,
      "outputs": []
    },
    {
      "cell_type": "code",
      "source": [
        "dados01.head()"
      ],
      "metadata": {
        "id": "5mIu5rPHIjTN"
      },
      "execution_count": null,
      "outputs": []
    },
    {
      "cell_type": "markdown",
      "source": [
        "**Análise de Idades**"
      ],
      "metadata": {
        "id": "UCX8fi__LkwL"
      }
    },
    {
      "cell_type": "code",
      "source": [
        "dados01[\"IDADE\"].value_counts()"
      ],
      "metadata": {
        "id": "9nJHI2a_Ltef"
      },
      "execution_count": null,
      "outputs": []
    },
    {
      "cell_type": "code",
      "source": [
        "dados01[\"IDADE\"].value_counts().sort_index(ascending=True) #.sort index coloca as idades em ordem crescente \n",
        "# quando n leva um argumento (por padrão), mas é possível setar para que o ascending=False faça com que os\n",
        "#dados apareçam em modo decrescente."
      ],
      "metadata": {
        "id": "9lSqEoGMMcDu"
      },
      "execution_count": null,
      "outputs": []
    },
    {
      "cell_type": "markdown",
      "source": [
        "**É notável que haja no db alunos menores de 12 anos, o que pode indicar erros nessa tabela. Dessa forma, vamos filtrar a tabela para que haja somente idades válidas (Idades maiores do que 11 anos)**\n"
      ],
      "metadata": {
        "id": "L9xUP6bZPAl3"
      }
    },
    {
      "cell_type": "code",
      "source": [
        "# Vamos verificar primeiro o número de alunos menores do que 12 anos por município\n",
        "menores_12 = dados01.query(\"IDADE < 12\")[\"NO_MUNICIPIO_RESIDENCIA\"].value_counts()\n",
        "menores_12"
      ],
      "metadata": {
        "id": "IpnJrFC0PlZC"
      },
      "execution_count": null,
      "outputs": []
    },
    {
      "cell_type": "markdown",
      "source": [
        "**Aqui vamos, de fato, selecionar apenas aqueles maiores do que 11 anos**"
      ],
      "metadata": {
        "id": "c2Kh6hm2UmZW"
      }
    },
    {
      "cell_type": "code",
      "source": [
        "maiores_11 = dados01.loc[dados01.IDADE > 11]"
      ],
      "metadata": {
        "id": "SV6oLSeDUnUM"
      },
      "execution_count": null,
      "outputs": []
    },
    {
      "cell_type": "code",
      "source": [
        "maiores_11[\"IDADE\"].value_counts().sort_index()"
      ],
      "metadata": {
        "id": "qSbs0VUJU_2g"
      },
      "execution_count": null,
      "outputs": []
    },
    {
      "cell_type": "markdown",
      "source": [
        "**Lidando com treineiros**"
      ],
      "metadata": {
        "id": "-6hC8KipmQBM"
      }
    },
    {
      "cell_type": "code",
      "source": [
        "# 1 primeiramente vamos checar quantos treineiros estão em nossa base de dados.\n",
        "maiores_11.query(\"IN_TREINEIRO == 1\")[\"IN_TREINEIRO\"].value_counts()"
      ],
      "metadata": {
        "id": "4cMsWJr-mTux"
      },
      "execution_count": null,
      "outputs": []
    },
    {
      "cell_type": "code",
      "source": [
        "# 2 vamos criar uma tabela somente com treineiros, para quem sabe podermos trabalhar com eles futuramente.\n",
        "treineiros = maiores_11.loc[maiores_11.IN_TREINEIRO == 1]\n"
      ],
      "metadata": {
        "id": "SgU4r-cgm089"
      },
      "execution_count": null,
      "outputs": []
    },
    {
      "cell_type": "code",
      "source": [
        "#3 Vamos visualizar quantos desses alunos eram treineiros (saída = 93.988)\n",
        "treineiros.query(\"IN_TREINEIRO == 1\").shape\n"
      ],
      "metadata": {
        "id": "EIyylkKznbLm"
      },
      "execution_count": null,
      "outputs": []
    },
    {
      "cell_type": "code",
      "source": [
        "#4 Vamos verificar quantos alunos Vestibulandos (não treineiros) estão em nossa base de dados.\n",
        "#(saída = 719.768)\n",
        "maiores_11.query(\"IN_TREINEIRO == 0\").shape"
      ],
      "metadata": {
        "id": "oxeawjsCoMmN"
      },
      "execution_count": null,
      "outputs": []
    },
    {
      "cell_type": "code",
      "source": [
        "# 5 - Por fim, vamos salvar o DB Treineiros como um arquivo Csv, para eventualmente utilizá-lo.\n",
        "#treineiros.to_csv(\"treineiros_enem_sp_2019.csv\",encoding = \"iso-8859-1\",index = False)\n",
        "\n",
        "#OBS: ESTÁ COMO COMENTÁRIO PARA QUE A CÉDULA N FIQUE GERANDO UM NOVO ARQUIVO A CADA VEZ QUE FOR EXECUTADA."
      ],
      "metadata": {
        "id": "dgt1s-ZipcFc"
      },
      "execution_count": null,
      "outputs": []
    },
    {
      "cell_type": "markdown",
      "source": [
        "**Lidando com Vestibulandos**"
      ],
      "metadata": {
        "id": "mYwKiD6ir9-k"
      }
    },
    {
      "cell_type": "code",
      "source": [
        "#Vamos separar os vestibulandos dos treineiros\n",
        "\n",
        "vestibulandos = maiores_11.loc[maiores_11.IN_TREINEIRO == 0]"
      ],
      "metadata": {
        "id": "t1rFHtwUsCzP"
      },
      "execution_count": null,
      "outputs": []
    },
    {
      "cell_type": "code",
      "source": [
        "#Contabilizando os  719.768 vestibulandos\n",
        "vestibulandos.shape"
      ],
      "metadata": {
        "id": "KVXQgUomsWHW"
      },
      "execution_count": null,
      "outputs": []
    },
    {
      "cell_type": "markdown",
      "source": [
        "**Análise de presenças**\n",
        "\n",
        "\n",
        "* Pessoas que estiveram presentes (Identificados pelo número 1)\n",
        "* Faltosos (Identificados pelo número 0)\n",
        "* Eliminados do Enem (Identificados pelo número 2)\n",
        "\n",
        "\n"
      ],
      "metadata": {
        "id": "C1AfK4Y3iOgc"
      }
    },
    {
      "cell_type": "code",
      "source": [
        "vestibulandos[\"TP_PRESENCA_CN\"].value_counts()"
      ],
      "metadata": {
        "id": "iT_RKr8QiTxk"
      },
      "execution_count": null,
      "outputs": []
    },
    {
      "cell_type": "code",
      "source": [
        "vestibulandos[\"TP_PRESENCA_CH\"].value_counts()"
      ],
      "metadata": {
        "id": "WEL61LrRjZjD"
      },
      "execution_count": null,
      "outputs": []
    },
    {
      "cell_type": "code",
      "source": [
        "vestibulandos[\"TP_PRESENCA_LC\"].value_counts() #LC E CH no mesmo dia. MT E CN no mesmo dia."
      ],
      "metadata": {
        "id": "9H8eZhUej5UJ"
      },
      "execution_count": null,
      "outputs": []
    },
    {
      "cell_type": "code",
      "source": [
        "vestibulandos[\"TP_PRESENCA_MT\"].value_counts()"
      ],
      "metadata": {
        "id": "Sfbi2HkdkCZP"
      },
      "execution_count": null,
      "outputs": []
    },
    {
      "cell_type": "markdown",
      "source": [
        "RESUMO DA PRESENÇA NAS PROVAS:\n",
        "\n",
        "Ciências da Natureza: 500805 presentes, 218693 faltaram e 270 eliminados.\n",
        "\n",
        "Ciências Humanas: 533142 presentes, 185969 faltaram e 657 eliminados.\n",
        "\n",
        "Linguagens e Códigos: 533142 presentes, 185969 faltaram e 657 eliminados.\n",
        "\n",
        "Matemática: 500805 presentes, 218693 faltaram e 270 eliminados."
      ],
      "metadata": {
        "id": "M_RXIGR-l2RD"
      }
    },
    {
      "cell_type": "markdown",
      "source": [
        "**Redação**\n",
        "1 Sem problemas\n",
        "2 Anulada\n",
        "3 Cópia Texto Motivador\n",
        "4 Em Branco\n",
        "6 Fuga ao tema\n",
        "7 Não atendimento ao tipo textual\n",
        "8 Texto insuficiente\n",
        "9 Parte desconectada"
      ],
      "metadata": {
        "id": "gVeMFPxFsuX9"
      }
    },
    {
      "cell_type": "code",
      "source": [
        "vestibulandos[\"TP_STATUS_REDACAO\"].value_counts().sort_index()"
      ],
      "metadata": {
        "id": "TKBz-SIlubLb"
      },
      "execution_count": null,
      "outputs": []
    },
    {
      "cell_type": "markdown",
      "source": [
        "**Valores Ausentes**"
      ],
      "metadata": {
        "id": "yXw7K0JPvvxN"
      }
    },
    {
      "cell_type": "code",
      "source": [
        "vestibulandos[\"IDADE\"].isnull().sum() #0 valores nulos "
      ],
      "metadata": {
        "id": "X88Rs3T2vzXx"
      },
      "execution_count": null,
      "outputs": []
    },
    {
      "cell_type": "code",
      "source": [
        "provas = [\"NOTA_REDACAO\",\"NOTA_CN\",\"NOTA_CH\",\"NOTA_LC\",\"NOTA_MT\"]"
      ],
      "metadata": {
        "id": "8Y41SkDHxRKz"
      },
      "execution_count": null,
      "outputs": []
    },
    {
      "cell_type": "code",
      "source": [
        "vestibulandos[provas].isnull().sum()"
      ],
      "metadata": {
        "id": "WcHupP1Fxhxc"
      },
      "execution_count": null,
      "outputs": []
    },
    {
      "cell_type": "code",
      "source": [
        "presenca_total =  [\"TP_PRESENCA_CN\",\n",
        "                   \"TP_PRESENCA_CH\",\n",
        "                    \"TP_PRESENCA_LC\",\n",
        "                    \"TP_PRESENCA_MT\"\n",
        "]"
      ],
      "metadata": {
        "id": "t3Xqk-ox0LcV"
      },
      "execution_count": 114,
      "outputs": []
    },
    {
      "cell_type": "code",
      "source": [
        "vestibulandos[\"presenca_total\"] = vestibulandos[presenca_total].sum(axis=1)"
      ],
      "metadata": {
        "colab": {
          "base_uri": "https://localhost:8080/"
        },
        "id": "GgP3Jj1517q6",
        "outputId": "7e20fafc-d4e3-48b1-d0f6-2e486b079f43"
      },
      "execution_count": 117,
      "outputs": [
        {
          "output_type": "stream",
          "name": "stderr",
          "text": [
            "/usr/local/lib/python3.7/dist-packages/ipykernel_launcher.py:1: SettingWithCopyWarning: \n",
            "A value is trying to be set on a copy of a slice from a DataFrame.\n",
            "Try using .loc[row_indexer,col_indexer] = value instead\n",
            "\n",
            "See the caveats in the documentation: https://pandas.pydata.org/pandas-docs/stable/user_guide/indexing.html#returning-a-view-versus-a-copy\n",
            "  \"\"\"Entry point for launching an IPython kernel.\n"
          ]
        }
      ]
    },
    {
      "cell_type": "code",
      "source": [
        "vestibulandos.head()"
      ],
      "metadata": {
        "colab": {
          "base_uri": "https://localhost:8080/",
          "height": 288
        },
        "id": "lnjcRD1627ha",
        "outputId": "67d37b4a-4f40-4267-96fd-2628a0935335"
      },
      "execution_count": 118,
      "outputs": [
        {
          "output_type": "execute_result",
          "data": {
            "text/plain": [
              "  NU_INSCRICAO NO_MUNICIPIO_RESIDENCIA  IDADE SEXO  TP_ESTADO_CIVIL    RACA  \\\n",
              "0     1,90E+11            Santa Isabel     22    M                1   parda   \n",
              "1     1,90E+11             Pinhalzinho     19    M                1   parda   \n",
              "2     1,90E+11               São Paulo     17    F                1   parda   \n",
              "3     1,90E+11   São Bernardo do Campo     19    M                1   parda   \n",
              "4     1,90E+11    São Joaquim da Barra     37    M                2  branca   \n",
              "\n",
              "   TP_NACIONALIDADE  TP_ST_CONCLUSAO         ESCOLA  IN_TREINEIRO   CO_ESCOLA  \\\n",
              "0                 1                1  nao_respondeu             0         NaN   \n",
              "1                 1                1  nao_respondeu             0         NaN   \n",
              "2                 1                2        privada             0  15567761.0   \n",
              "3                 1                2        publica             0  35904958.0   \n",
              "4                 1                1  nao_respondeu             0         NaN   \n",
              "\n",
              "        NO_MUNICIPIO_ESC  TP_PRESENCA_CN  TP_PRESENCA_CH  TP_PRESENCA_LC  \\\n",
              "0                    NaN               1               1               1   \n",
              "1                    NaN               0               0               0   \n",
              "2                  Belém               1               1               1   \n",
              "3  São Bernardo do Campo               1               1               1   \n",
              "4                    NaN               0               0               0   \n",
              "\n",
              "   TP_PRESENCA_MT  NOTA_CN  NOTA_CH  NOTA_LC  NOTA_MT TP_LINGUA  \\\n",
              "0               1    564.6    585.8    592.9    600.2    Inglês   \n",
              "1               0      NaN      NaN      NaN      NaN  Espanhol   \n",
              "2               1    576.2    641.1    634.3    731.8    Inglês   \n",
              "3               1    402.2    424.8    509.6    393.2  Espanhol   \n",
              "4               0      NaN      NaN      NaN      NaN  Espanhol   \n",
              "\n",
              "   TP_STATUS_REDACAO  NU_NOTA_COMP1  COMP2  COMP3  COMP4  COMP5  NOTA_REDACAO  \\\n",
              "0                1.0          160.0  200.0  180.0  200.0  200.0         940.0   \n",
              "1                NaN            NaN    NaN    NaN    NaN    NaN           NaN   \n",
              "2                1.0          160.0  120.0  200.0  200.0  200.0         880.0   \n",
              "3                1.0           80.0  160.0  120.0  100.0  100.0         560.0   \n",
              "4                NaN            NaN    NaN    NaN    NaN    NaN           NaN   \n",
              "\n",
              "  INTERNET  presenca_total  \n",
              "0      nao               4  \n",
              "1      sim               0  \n",
              "2      sim               4  \n",
              "3      nao               4  \n",
              "4      nao               0  "
            ],
            "text/html": [
              "\n",
              "  <div id=\"df-55084beb-d284-4b0b-8dc5-3e8d02532567\">\n",
              "    <div class=\"colab-df-container\">\n",
              "      <div>\n",
              "<style scoped>\n",
              "    .dataframe tbody tr th:only-of-type {\n",
              "        vertical-align: middle;\n",
              "    }\n",
              "\n",
              "    .dataframe tbody tr th {\n",
              "        vertical-align: top;\n",
              "    }\n",
              "\n",
              "    .dataframe thead th {\n",
              "        text-align: right;\n",
              "    }\n",
              "</style>\n",
              "<table border=\"1\" class=\"dataframe\">\n",
              "  <thead>\n",
              "    <tr style=\"text-align: right;\">\n",
              "      <th></th>\n",
              "      <th>NU_INSCRICAO</th>\n",
              "      <th>NO_MUNICIPIO_RESIDENCIA</th>\n",
              "      <th>IDADE</th>\n",
              "      <th>SEXO</th>\n",
              "      <th>TP_ESTADO_CIVIL</th>\n",
              "      <th>RACA</th>\n",
              "      <th>TP_NACIONALIDADE</th>\n",
              "      <th>TP_ST_CONCLUSAO</th>\n",
              "      <th>ESCOLA</th>\n",
              "      <th>IN_TREINEIRO</th>\n",
              "      <th>CO_ESCOLA</th>\n",
              "      <th>NO_MUNICIPIO_ESC</th>\n",
              "      <th>TP_PRESENCA_CN</th>\n",
              "      <th>TP_PRESENCA_CH</th>\n",
              "      <th>TP_PRESENCA_LC</th>\n",
              "      <th>TP_PRESENCA_MT</th>\n",
              "      <th>NOTA_CN</th>\n",
              "      <th>NOTA_CH</th>\n",
              "      <th>NOTA_LC</th>\n",
              "      <th>NOTA_MT</th>\n",
              "      <th>TP_LINGUA</th>\n",
              "      <th>TP_STATUS_REDACAO</th>\n",
              "      <th>NU_NOTA_COMP1</th>\n",
              "      <th>COMP2</th>\n",
              "      <th>COMP3</th>\n",
              "      <th>COMP4</th>\n",
              "      <th>COMP5</th>\n",
              "      <th>NOTA_REDACAO</th>\n",
              "      <th>INTERNET</th>\n",
              "      <th>presenca_total</th>\n",
              "    </tr>\n",
              "  </thead>\n",
              "  <tbody>\n",
              "    <tr>\n",
              "      <th>0</th>\n",
              "      <td>1,90E+11</td>\n",
              "      <td>Santa Isabel</td>\n",
              "      <td>22</td>\n",
              "      <td>M</td>\n",
              "      <td>1</td>\n",
              "      <td>parda</td>\n",
              "      <td>1</td>\n",
              "      <td>1</td>\n",
              "      <td>nao_respondeu</td>\n",
              "      <td>0</td>\n",
              "      <td>NaN</td>\n",
              "      <td>NaN</td>\n",
              "      <td>1</td>\n",
              "      <td>1</td>\n",
              "      <td>1</td>\n",
              "      <td>1</td>\n",
              "      <td>564.6</td>\n",
              "      <td>585.8</td>\n",
              "      <td>592.9</td>\n",
              "      <td>600.2</td>\n",
              "      <td>Inglês</td>\n",
              "      <td>1.0</td>\n",
              "      <td>160.0</td>\n",
              "      <td>200.0</td>\n",
              "      <td>180.0</td>\n",
              "      <td>200.0</td>\n",
              "      <td>200.0</td>\n",
              "      <td>940.0</td>\n",
              "      <td>nao</td>\n",
              "      <td>4</td>\n",
              "    </tr>\n",
              "    <tr>\n",
              "      <th>1</th>\n",
              "      <td>1,90E+11</td>\n",
              "      <td>Pinhalzinho</td>\n",
              "      <td>19</td>\n",
              "      <td>M</td>\n",
              "      <td>1</td>\n",
              "      <td>parda</td>\n",
              "      <td>1</td>\n",
              "      <td>1</td>\n",
              "      <td>nao_respondeu</td>\n",
              "      <td>0</td>\n",
              "      <td>NaN</td>\n",
              "      <td>NaN</td>\n",
              "      <td>0</td>\n",
              "      <td>0</td>\n",
              "      <td>0</td>\n",
              "      <td>0</td>\n",
              "      <td>NaN</td>\n",
              "      <td>NaN</td>\n",
              "      <td>NaN</td>\n",
              "      <td>NaN</td>\n",
              "      <td>Espanhol</td>\n",
              "      <td>NaN</td>\n",
              "      <td>NaN</td>\n",
              "      <td>NaN</td>\n",
              "      <td>NaN</td>\n",
              "      <td>NaN</td>\n",
              "      <td>NaN</td>\n",
              "      <td>NaN</td>\n",
              "      <td>sim</td>\n",
              "      <td>0</td>\n",
              "    </tr>\n",
              "    <tr>\n",
              "      <th>2</th>\n",
              "      <td>1,90E+11</td>\n",
              "      <td>São Paulo</td>\n",
              "      <td>17</td>\n",
              "      <td>F</td>\n",
              "      <td>1</td>\n",
              "      <td>parda</td>\n",
              "      <td>1</td>\n",
              "      <td>2</td>\n",
              "      <td>privada</td>\n",
              "      <td>0</td>\n",
              "      <td>15567761.0</td>\n",
              "      <td>Belém</td>\n",
              "      <td>1</td>\n",
              "      <td>1</td>\n",
              "      <td>1</td>\n",
              "      <td>1</td>\n",
              "      <td>576.2</td>\n",
              "      <td>641.1</td>\n",
              "      <td>634.3</td>\n",
              "      <td>731.8</td>\n",
              "      <td>Inglês</td>\n",
              "      <td>1.0</td>\n",
              "      <td>160.0</td>\n",
              "      <td>120.0</td>\n",
              "      <td>200.0</td>\n",
              "      <td>200.0</td>\n",
              "      <td>200.0</td>\n",
              "      <td>880.0</td>\n",
              "      <td>sim</td>\n",
              "      <td>4</td>\n",
              "    </tr>\n",
              "    <tr>\n",
              "      <th>3</th>\n",
              "      <td>1,90E+11</td>\n",
              "      <td>São Bernardo do Campo</td>\n",
              "      <td>19</td>\n",
              "      <td>M</td>\n",
              "      <td>1</td>\n",
              "      <td>parda</td>\n",
              "      <td>1</td>\n",
              "      <td>2</td>\n",
              "      <td>publica</td>\n",
              "      <td>0</td>\n",
              "      <td>35904958.0</td>\n",
              "      <td>São Bernardo do Campo</td>\n",
              "      <td>1</td>\n",
              "      <td>1</td>\n",
              "      <td>1</td>\n",
              "      <td>1</td>\n",
              "      <td>402.2</td>\n",
              "      <td>424.8</td>\n",
              "      <td>509.6</td>\n",
              "      <td>393.2</td>\n",
              "      <td>Espanhol</td>\n",
              "      <td>1.0</td>\n",
              "      <td>80.0</td>\n",
              "      <td>160.0</td>\n",
              "      <td>120.0</td>\n",
              "      <td>100.0</td>\n",
              "      <td>100.0</td>\n",
              "      <td>560.0</td>\n",
              "      <td>nao</td>\n",
              "      <td>4</td>\n",
              "    </tr>\n",
              "    <tr>\n",
              "      <th>4</th>\n",
              "      <td>1,90E+11</td>\n",
              "      <td>São Joaquim da Barra</td>\n",
              "      <td>37</td>\n",
              "      <td>M</td>\n",
              "      <td>2</td>\n",
              "      <td>branca</td>\n",
              "      <td>1</td>\n",
              "      <td>1</td>\n",
              "      <td>nao_respondeu</td>\n",
              "      <td>0</td>\n",
              "      <td>NaN</td>\n",
              "      <td>NaN</td>\n",
              "      <td>0</td>\n",
              "      <td>0</td>\n",
              "      <td>0</td>\n",
              "      <td>0</td>\n",
              "      <td>NaN</td>\n",
              "      <td>NaN</td>\n",
              "      <td>NaN</td>\n",
              "      <td>NaN</td>\n",
              "      <td>Espanhol</td>\n",
              "      <td>NaN</td>\n",
              "      <td>NaN</td>\n",
              "      <td>NaN</td>\n",
              "      <td>NaN</td>\n",
              "      <td>NaN</td>\n",
              "      <td>NaN</td>\n",
              "      <td>NaN</td>\n",
              "      <td>nao</td>\n",
              "      <td>0</td>\n",
              "    </tr>\n",
              "  </tbody>\n",
              "</table>\n",
              "</div>\n",
              "      <button class=\"colab-df-convert\" onclick=\"convertToInteractive('df-55084beb-d284-4b0b-8dc5-3e8d02532567')\"\n",
              "              title=\"Convert this dataframe to an interactive table.\"\n",
              "              style=\"display:none;\">\n",
              "        \n",
              "  <svg xmlns=\"http://www.w3.org/2000/svg\" height=\"24px\"viewBox=\"0 0 24 24\"\n",
              "       width=\"24px\">\n",
              "    <path d=\"M0 0h24v24H0V0z\" fill=\"none\"/>\n",
              "    <path d=\"M18.56 5.44l.94 2.06.94-2.06 2.06-.94-2.06-.94-.94-2.06-.94 2.06-2.06.94zm-11 1L8.5 8.5l.94-2.06 2.06-.94-2.06-.94L8.5 2.5l-.94 2.06-2.06.94zm10 10l.94 2.06.94-2.06 2.06-.94-2.06-.94-.94-2.06-.94 2.06-2.06.94z\"/><path d=\"M17.41 7.96l-1.37-1.37c-.4-.4-.92-.59-1.43-.59-.52 0-1.04.2-1.43.59L10.3 9.45l-7.72 7.72c-.78.78-.78 2.05 0 2.83L4 21.41c.39.39.9.59 1.41.59.51 0 1.02-.2 1.41-.59l7.78-7.78 2.81-2.81c.8-.78.8-2.07 0-2.86zM5.41 20L4 18.59l7.72-7.72 1.47 1.35L5.41 20z\"/>\n",
              "  </svg>\n",
              "      </button>\n",
              "      \n",
              "  <style>\n",
              "    .colab-df-container {\n",
              "      display:flex;\n",
              "      flex-wrap:wrap;\n",
              "      gap: 12px;\n",
              "    }\n",
              "\n",
              "    .colab-df-convert {\n",
              "      background-color: #E8F0FE;\n",
              "      border: none;\n",
              "      border-radius: 50%;\n",
              "      cursor: pointer;\n",
              "      display: none;\n",
              "      fill: #1967D2;\n",
              "      height: 32px;\n",
              "      padding: 0 0 0 0;\n",
              "      width: 32px;\n",
              "    }\n",
              "\n",
              "    .colab-df-convert:hover {\n",
              "      background-color: #E2EBFA;\n",
              "      box-shadow: 0px 1px 2px rgba(60, 64, 67, 0.3), 0px 1px 3px 1px rgba(60, 64, 67, 0.15);\n",
              "      fill: #174EA6;\n",
              "    }\n",
              "\n",
              "    [theme=dark] .colab-df-convert {\n",
              "      background-color: #3B4455;\n",
              "      fill: #D2E3FC;\n",
              "    }\n",
              "\n",
              "    [theme=dark] .colab-df-convert:hover {\n",
              "      background-color: #434B5C;\n",
              "      box-shadow: 0px 1px 3px 1px rgba(0, 0, 0, 0.15);\n",
              "      filter: drop-shadow(0px 1px 2px rgba(0, 0, 0, 0.3));\n",
              "      fill: #FFFFFF;\n",
              "    }\n",
              "  </style>\n",
              "\n",
              "      <script>\n",
              "        const buttonEl =\n",
              "          document.querySelector('#df-55084beb-d284-4b0b-8dc5-3e8d02532567 button.colab-df-convert');\n",
              "        buttonEl.style.display =\n",
              "          google.colab.kernel.accessAllowed ? 'block' : 'none';\n",
              "\n",
              "        async function convertToInteractive(key) {\n",
              "          const element = document.querySelector('#df-55084beb-d284-4b0b-8dc5-3e8d02532567');\n",
              "          const dataTable =\n",
              "            await google.colab.kernel.invokeFunction('convertToInteractive',\n",
              "                                                     [key], {});\n",
              "          if (!dataTable) return;\n",
              "\n",
              "          const docLinkHtml = 'Like what you see? Visit the ' +\n",
              "            '<a target=\"_blank\" href=https://colab.research.google.com/notebooks/data_table.ipynb>data table notebook</a>'\n",
              "            + ' to learn more about interactive tables.';\n",
              "          element.innerHTML = '';\n",
              "          dataTable['output_type'] = 'display_data';\n",
              "          await google.colab.output.renderOutput(dataTable, element);\n",
              "          const docLink = document.createElement('div');\n",
              "          docLink.innerHTML = docLinkHtml;\n",
              "          element.appendChild(docLink);\n",
              "        }\n",
              "      </script>\n",
              "    </div>\n",
              "  </div>\n",
              "  "
            ]
          },
          "metadata": {},
          "execution_count": 118
        }
      ]
    }
  ],
  "metadata": {
    "colab": {
      "collapsed_sections": [],
      "name": "01 - Preparando os dados.ipynb",
      "provenance": [],
      "mount_file_id": "1TkKDZds6dnScdvXMFPM1UV2txcAmoh4h",
      "authorship_tag": "ABX9TyMVY+elQ/24lDb9yAzV+e5r",
      "include_colab_link": true
    },
    "kernelspec": {
      "display_name": "Python 3",
      "name": "python3"
    },
    "language_info": {
      "name": "python"
    }
  },
  "nbformat": 4,
  "nbformat_minor": 0
}